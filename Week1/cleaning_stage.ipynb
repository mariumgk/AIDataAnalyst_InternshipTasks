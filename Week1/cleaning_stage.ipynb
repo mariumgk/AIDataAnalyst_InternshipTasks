{
 "cells": [
  {
   "cell_type": "code",
   "execution_count": 40,
   "id": "f7ad7a05",
   "metadata": {},
   "outputs": [
    {
     "name": "stdout",
     "output_type": "stream",
     "text": [
      "  Learner SignUp DateTime                  Opportunity Id  \\\n",
      "0     06/14/2023 12:30:35  00000000-0GN2-A0AY-7XK8-C5FZPP   \n",
      "1     05/01/2023 05:29:16  00000000-0GN2-A0AY-7XK8-C5FZPP   \n",
      "2     04/09/2023 20:35:08  00000000-0GN2-A0AY-7XK8-C5FZPP   \n",
      "3     08/29/2023 05:20:03  00000000-0GN2-A0AY-7XK8-C5FZPP   \n",
      "4     01/06/2023 15:26:36  00000000-0GN2-A0AY-7XK8-C5FZPP   \n",
      "\n",
      "                                    Opportunity Name Opportunity Category  \\\n",
      "0  Career Essentials: Getting Started with Your P...               Course   \n",
      "1  Career Essentials: Getting Started with Your P...               Course   \n",
      "2  Career Essentials: Getting Started with Your P...               Course   \n",
      "3  Career Essentials: Getting Started with Your P...               Course   \n",
      "4  Career Essentials: Getting Started with Your P...               Course   \n",
      "\n",
      "  Opportunity End Date        First Name Date of Birth  Gender        Country  \\\n",
      "0  06/29/2024 18:52:39             Faria    01/12/2001  Female       Pakistan   \n",
      "1  06/29/2024 18:52:39          Poojitha    08/16/2000  Female          India   \n",
      "2  06/29/2024 18:52:39          Emmanuel    01/27/2002    Male  United States   \n",
      "3  06/29/2024 18:52:39  Amrutha Varshini    11/01/1999  Female  United States   \n",
      "4  06/29/2024 18:52:39    Vinay Varshith    04/19/2000    Male  United States   \n",
      "\n",
      "                   Institution Name Current/Intended Major  \\\n",
      "0                             Nwihs              Radiology   \n",
      "1                       SAINT LOUIS    Information Systems   \n",
      "2  Illinois Institute of Technology       Computer Science   \n",
      "3            Saint Louis University    Information Systems   \n",
      "4            Saint Louis University       Computer Science   \n",
      "\n",
      "      Entry created at Status Description  Status Code  \\\n",
      "0  03/11/2024 12:01:41            Started         1080   \n",
      "1  03/11/2024 12:01:41            Started         1080   \n",
      "2  03/11/2024 12:01:41            Started         1080   \n",
      "3  03/11/2024 12:01:41     Team Allocated         1070   \n",
      "4  03/11/2024 12:01:41            Started         1080   \n",
      "\n",
      "                 Apply Date Opportunity Start Date  \n",
      "0       06/14/2023 12:36:09    11/03/2022 18:30:39  \n",
      "1       05/01/2023 06:08:21    11/03/2022 18:30:39  \n",
      "2  05/11/2023 1085640:21:29    11/03/2022 18:30:39  \n",
      "3       10/09/2023 22:02:42    11/03/2022 18:30:39  \n",
      "4       01/06/2023 15:40:10    11/03/2022 18:30:39  \n"
     ]
    }
   ],
   "source": [
    "import pandas as pd\n",
    "import numpy as np\n",
    "\n",
    "df = pd.read_csv(\"SLU Opportunity Wise Data.csv\")\n",
    "print(df.head())\n"
   ]
  },
  {
   "cell_type": "code",
   "execution_count": 41,
   "id": "d4caac5c",
   "metadata": {},
   "outputs": [
    {
     "name": "stdout",
     "output_type": "stream",
     "text": [
      "Learner SignUp DateTime       0\n",
      "Opportunity Id                0\n",
      "Opportunity Name              0\n",
      "Opportunity Category          0\n",
      "Opportunity End Date          0\n",
      "First Name                    0\n",
      "Date of Birth                 0\n",
      "Gender                        0\n",
      "Country                       0\n",
      "Institution Name              5\n",
      "Current/Intended Major        5\n",
      "Entry created at              0\n",
      "Status Description            0\n",
      "Status Code                   0\n",
      "Apply Date                    0\n",
      "Opportunity Start Date     3794\n",
      "dtype: int64\n"
     ]
    },
    {
     "data": {
      "text/html": [
       "<div>\n",
       "<style scoped>\n",
       "    .dataframe tbody tr th:only-of-type {\n",
       "        vertical-align: middle;\n",
       "    }\n",
       "\n",
       "    .dataframe tbody tr th {\n",
       "        vertical-align: top;\n",
       "    }\n",
       "\n",
       "    .dataframe thead th {\n",
       "        text-align: right;\n",
       "    }\n",
       "</style>\n",
       "<table border=\"1\" class=\"dataframe\">\n",
       "  <thead>\n",
       "    <tr style=\"text-align: right;\">\n",
       "      <th></th>\n",
       "      <th>Status Code</th>\n",
       "    </tr>\n",
       "  </thead>\n",
       "  <tbody>\n",
       "    <tr>\n",
       "      <th>count</th>\n",
       "      <td>8558.000000</td>\n",
       "    </tr>\n",
       "    <tr>\n",
       "      <th>mean</th>\n",
       "      <td>1052.225987</td>\n",
       "    </tr>\n",
       "    <tr>\n",
       "      <th>std</th>\n",
       "      <td>21.665207</td>\n",
       "    </tr>\n",
       "    <tr>\n",
       "      <th>min</th>\n",
       "      <td>1010.000000</td>\n",
       "    </tr>\n",
       "    <tr>\n",
       "      <th>25%</th>\n",
       "      <td>1030.000000</td>\n",
       "    </tr>\n",
       "    <tr>\n",
       "      <th>50%</th>\n",
       "      <td>1050.000000</td>\n",
       "    </tr>\n",
       "    <tr>\n",
       "      <th>75%</th>\n",
       "      <td>1070.000000</td>\n",
       "    </tr>\n",
       "    <tr>\n",
       "      <th>max</th>\n",
       "      <td>1120.000000</td>\n",
       "    </tr>\n",
       "  </tbody>\n",
       "</table>\n",
       "</div>"
      ],
      "text/plain": [
       "       Status Code\n",
       "count  8558.000000\n",
       "mean   1052.225987\n",
       "std      21.665207\n",
       "min    1010.000000\n",
       "25%    1030.000000\n",
       "50%    1050.000000\n",
       "75%    1070.000000\n",
       "max    1120.000000"
      ]
     },
     "execution_count": 41,
     "metadata": {},
     "output_type": "execute_result"
    }
   ],
   "source": [
    "df.head()\n",
    "df.shape\n",
    "df.columns\n",
    "print(df.isnull().sum())\n",
    "df.describe()"
   ]
  },
  {
   "cell_type": "code",
   "execution_count": 42,
   "id": "10d6f3c1",
   "metadata": {},
   "outputs": [
    {
     "data": {
      "text/plain": [
       "Learner SignUp DateTime    object\n",
       "Opportunity Id             object\n",
       "Opportunity Name           object\n",
       "Opportunity Category       object\n",
       "Opportunity End Date       object\n",
       "First Name                 object\n",
       "Date of Birth              object\n",
       "Gender                     object\n",
       "Country                    object\n",
       "Institution Name           object\n",
       "Current/Intended Major     object\n",
       "Entry created at           object\n",
       "Status Description         object\n",
       "Status Code                 int64\n",
       "Apply Date                 object\n",
       "Opportunity Start Date     object\n",
       "dtype: object"
      ]
     },
     "execution_count": 42,
     "metadata": {},
     "output_type": "execute_result"
    }
   ],
   "source": [
    "df.dtypes"
   ]
  },
  {
   "cell_type": "markdown",
   "id": "a8697d91",
   "metadata": {},
   "source": [
    "Standardize Date Formats"
   ]
  },
  {
   "cell_type": "code",
   "execution_count": 43,
   "id": "7ed169e2",
   "metadata": {},
   "outputs": [],
   "source": [
    "date_cols = [\n",
    "    'Learner SignUp DateTime', \n",
    "    'Opportunity End Date', \n",
    "    'Date of Birth', \n",
    "    'Entry created at', \n",
    "    'Apply Date', \n",
    "    'Opportunity Start Date'\n",
    "]\n",
    "df[date_cols] = df[date_cols].apply(pd.to_datetime, errors='coerce')"
   ]
  },
  {
   "cell_type": "code",
   "execution_count": 44,
   "id": "35a03e66",
   "metadata": {},
   "outputs": [
    {
     "name": "stdout",
     "output_type": "stream",
     "text": [
      "     Learner SignUp DateTime\n",
      "51                       NaT\n",
      "93                       NaT\n",
      "139                      NaT\n",
      "155                      NaT\n",
      "178                      NaT\n",
      "...                      ...\n",
      "8477                     NaT\n",
      "8494                     NaT\n",
      "8509                     NaT\n",
      "8539                     NaT\n",
      "8548                     NaT\n",
      "\n",
      "[295 rows x 1 columns]\n"
     ]
    }
   ],
   "source": [
    "invalid_dates = df[df['Learner SignUp DateTime'].isna()]\n",
    "print(invalid_dates[['Learner SignUp DateTime']])"
   ]
  },
  {
   "cell_type": "markdown",
   "id": "da200b3b",
   "metadata": {},
   "source": [
    "Removing rows where Learner Signup Date is missing"
   ]
  },
  {
   "cell_type": "code",
   "execution_count": 45,
   "id": "0baf42b6",
   "metadata": {},
   "outputs": [],
   "source": [
    "df=df.dropna(subset=['Learner SignUp DateTime'])"
   ]
  },
  {
   "cell_type": "code",
   "execution_count": 46,
   "id": "8527639b",
   "metadata": {},
   "outputs": [
    {
     "data": {
      "text/plain": [
       "0   2023-06-14 12:30:35\n",
       "1   2023-05-01 05:29:16\n",
       "2   2023-04-09 20:35:08\n",
       "3   2023-08-29 05:20:03\n",
       "4   2023-01-06 15:26:36\n",
       "Name: Learner SignUp DateTime, dtype: datetime64[ns]"
      ]
     },
     "execution_count": 46,
     "metadata": {},
     "output_type": "execute_result"
    }
   ],
   "source": [
    "df['Learner SignUp DateTime'].head()"
   ]
  },
  {
   "cell_type": "markdown",
   "id": "a3116c81",
   "metadata": {},
   "source": [
    "Opportunity Start Date: Fill missing values with the mode (most common start date) since all entries share the same opportunity ID:"
   ]
  },
  {
   "cell_type": "code",
   "execution_count": 47,
   "id": "13604750",
   "metadata": {},
   "outputs": [
    {
     "name": "stdout",
     "output_type": "stream",
     "text": [
      "handling missing values in Opportunity Start Date\n",
      "0\n"
     ]
    }
   ],
   "source": [
    "mode_start_date = df['Opportunity Start Date'].mode()[0]\n",
    "df['Opportunity Start Date'] = df['Opportunity Start Date'].fillna(mode_start_date)\n",
    "print(\"handling missing values in Opportunity Start Date\")\n",
    "print(df['Opportunity Start Date'].isnull().sum())"
   ]
  },
  {
   "cell_type": "code",
   "execution_count": 48,
   "id": "177d9374",
   "metadata": {},
   "outputs": [],
   "source": [
    "df.dropna(subset=['Apply Date'], inplace=True)"
   ]
  },
  {
   "cell_type": "code",
   "execution_count": 49,
   "id": "aaf43269",
   "metadata": {},
   "outputs": [
    {
     "data": {
      "text/plain": [
       "(8024, 16)"
      ]
     },
     "execution_count": 49,
     "metadata": {},
     "output_type": "execute_result"
    }
   ],
   "source": [
    "df.shape"
   ]
  },
  {
   "cell_type": "markdown",
   "id": "cec7fd74",
   "metadata": {},
   "source": [
    "Standardize Categorical Data\n",
    "Gender: Standardize values (e.g., Male, Female, Other):"
   ]
  },
  {
   "cell_type": "code",
   "execution_count": 50,
   "id": "dd10fbac",
   "metadata": {},
   "outputs": [],
   "source": [
    "df['Gender'] = df['Gender'].str.strip().replace({'M': 'Male', 'F': 'Female', 'Unknown': 'Other'})"
   ]
  },
  {
   "cell_type": "markdown",
   "id": "5397f42c",
   "metadata": {},
   "source": [
    "\n",
    "Standardizing Formats (Cleaning Text Fields)"
   ]
  },
  {
   "cell_type": "code",
   "execution_count": 51,
   "id": "9948038c",
   "metadata": {},
   "outputs": [],
   "source": [
    "text_columns = ['Current/Intended Major', 'Institution Name', 'Gender']\n",
    "for col in text_columns:\n",
    "    df[col] = df[col].astype(str).str.strip().str.lower()"
   ]
  },
  {
   "cell_type": "code",
   "execution_count": 52,
   "id": "ac0c7c01",
   "metadata": {},
   "outputs": [
    {
     "data": {
      "text/plain": [
       "np.int64(0)"
      ]
     },
     "execution_count": 52,
     "metadata": {},
     "output_type": "execute_result"
    }
   ],
   "source": [
    "df.duplicated().sum()\n"
   ]
  },
  {
   "cell_type": "code",
   "execution_count": 53,
   "id": "a014bc85",
   "metadata": {},
   "outputs": [
    {
     "data": {
      "text/plain": [
       "np.int64(0)"
      ]
     },
     "execution_count": 53,
     "metadata": {},
     "output_type": "execute_result"
    }
   ],
   "source": [
    "df.duplicated(subset=['First Name', 'Opportunity Id', 'Apply Date']).sum()"
   ]
  },
  {
   "cell_type": "code",
   "execution_count": 54,
   "id": "4a68ce71",
   "metadata": {},
   "outputs": [
    {
     "name": "stdout",
     "output_type": "stream",
     "text": [
      "Learner SignUp DateTime       0\n",
      "Opportunity Id                0\n",
      "Opportunity Name              0\n",
      "Opportunity Category          0\n",
      "Opportunity End Date       1175\n",
      "First Name                    0\n",
      "Date of Birth                 0\n",
      "Gender                        0\n",
      "Country                       0\n",
      "Institution Name              0\n",
      "Current/Intended Major        0\n",
      "Entry created at              0\n",
      "Status Description            0\n",
      "Status Code                   0\n",
      "Apply Date                    0\n",
      "Opportunity Start Date        0\n",
      "dtype: int64\n"
     ]
    }
   ],
   "source": [
    "print(df.isnull().sum())"
   ]
  },
  {
   "cell_type": "code",
   "execution_count": 55,
   "id": "75808e34",
   "metadata": {},
   "outputs": [
    {
     "data": {
      "text/plain": [
       "0                                                  nwihs\n",
       "1                                            saint louis\n",
       "3                                 saint louis university\n",
       "4                                 saint louis university\n",
       "5                                 saint louis university\n",
       "                             ...                        \n",
       "98                                saint louis university\n",
       "99                                  university of ilorin\n",
       "100                               ignatius global school\n",
       "101    mehran uniiversity of engineering and technolo...\n",
       "102                       delta state university  abraka\n",
       "Name: Institution Name, Length: 100, dtype: object"
      ]
     },
     "execution_count": 55,
     "metadata": {},
     "output_type": "execute_result"
    }
   ],
   "source": [
    "df['Institution Name'].head(100)"
   ]
  },
  {
   "cell_type": "code",
   "execution_count": 56,
   "id": "e02f2efe",
   "metadata": {},
   "outputs": [
    {
     "data": {
      "text/plain": [
       "Index(['Learner SignUp DateTime', 'Opportunity Id', 'Opportunity Name',\n",
       "       'Opportunity Category', 'Opportunity End Date', 'First Name',\n",
       "       'Date of Birth', 'Gender', 'Country', 'Institution Name',\n",
       "       'Current/Intended Major', 'Entry created at', 'Status Description',\n",
       "       'Status Code', 'Apply Date', 'Opportunity Start Date'],\n",
       "      dtype='object')"
      ]
     },
     "execution_count": 56,
     "metadata": {},
     "output_type": "execute_result"
    }
   ],
   "source": [
    "df.columns"
   ]
  },
  {
   "cell_type": "code",
   "execution_count": 57,
   "id": "0c07c2a7",
   "metadata": {},
   "outputs": [
    {
     "data": {
      "text/plain": [
       "Current/Intended Major\n",
       "information systems                    1987\n",
       "computer science                        986\n",
       "health data science                     339\n",
       "cyber security                          309\n",
       "computer information systems            234\n",
       "                                       ... \n",
       "www                                       1\n",
       "bsc cs                                    1\n",
       "high school student                       1\n",
       "computer networking and it security       1\n",
       "pos service                               1\n",
       "Name: count, Length: 386, dtype: int64"
      ]
     },
     "execution_count": 57,
     "metadata": {},
     "output_type": "execute_result"
    }
   ],
   "source": [
    "df['Current/Intended Major'].value_counts()"
   ]
  },
  {
   "cell_type": "markdown",
   "id": "df4dd3cf",
   "metadata": {},
   "source": [
    "Making following columns lower case"
   ]
  },
  {
   "cell_type": "code",
   "execution_count": 58,
   "id": "3e9638ef",
   "metadata": {},
   "outputs": [],
   "source": [
    "text_columns = ['Current/Intended Major', 'Institution Name', 'Gender']\n",
    "for col in text_columns:\n",
    "    df[col] = df[col].astype(str).str.strip().str.lower()"
   ]
  },
  {
   "cell_type": "markdown",
   "id": "af7c6109",
   "metadata": {},
   "source": [
    "\n",
    "Handling Inconsistent Categorical Data"
   ]
  },
  {
   "cell_type": "code",
   "execution_count": 59,
   "id": "54805705",
   "metadata": {},
   "outputs": [],
   "source": [
    "gender_mapping = {\n",
    "    'm': 'male',\n",
    "    'male': 'male',\n",
    "    'f': 'female',\n",
    "    'female': 'female',\n",
    "    'other': 'other',\n",
    "    'prefer not to say': 'unknown'\n",
    "}\n"
   ]
  },
  {
   "cell_type": "code",
   "execution_count": 60,
   "id": "19aa7db8",
   "metadata": {},
   "outputs": [
    {
     "data": {
      "text/plain": [
       "0      female\n",
       "1      female\n",
       "3      female\n",
       "4        male\n",
       "5        male\n",
       "        ...  \n",
       "98       male\n",
       "99     female\n",
       "100    female\n",
       "101    female\n",
       "102    female\n",
       "Name: Gender, Length: 100, dtype: object"
      ]
     },
     "execution_count": 60,
     "metadata": {},
     "output_type": "execute_result"
    }
   ],
   "source": [
    "df['Gender'].head(100)"
   ]
  },
  {
   "cell_type": "markdown",
   "id": "afcbc1f2",
   "metadata": {},
   "source": [
    "First letter of each word to uppercase and the rest to lowercase"
   ]
  },
  {
   "cell_type": "code",
   "execution_count": 61,
   "id": "e7aeba28",
   "metadata": {},
   "outputs": [],
   "source": [
    "df['Gender'] = df['Gender'].str.title()\n",
    "df['Current/Intended Major'] = df['Current/Intended Major'].str.title()\n",
    "df['Institution Name'] = df['Institution Name'].str.title()\n",
    "df['First Name'] = df['First Name'].str.title()\n"
   ]
  },
  {
   "cell_type": "markdown",
   "id": "55ff35d1",
   "metadata": {},
   "source": [
    "Selects columns from the DataFrame. Then, it removes duplicate rows based on the combination of values in these three columns"
   ]
  },
  {
   "cell_type": "code",
   "execution_count": 62,
   "id": "5c67b415",
   "metadata": {},
   "outputs": [
    {
     "name": "stdout",
     "output_type": "stream",
     "text": [
      "    Gender               Current/Intended Major  \\\n",
      "0   Female                            Radiology   \n",
      "1   Female                  Information Systems   \n",
      "3   Female                  Information Systems   \n",
      "4     Male                     Computer Science   \n",
      "5     Male               Mechanical Engineering   \n",
      "6     Male     Computer Science And Engineering   \n",
      "7   Female              Artificial Intelligence   \n",
      "8     Male  Robotics And Automation Engineering   \n",
      "9   Female                     Computer Science   \n",
      "10  Female                   Data Visualization   \n",
      "\n",
      "                       Institution Name  \n",
      "0                                 Nwihs  \n",
      "1                           Saint Louis  \n",
      "3                Saint Louis University  \n",
      "4                Saint Louis University  \n",
      "5                Saint Louis University  \n",
      "6      Illinois Institute Of Technology  \n",
      "7   Gems New Millennium School Al Khail  \n",
      "8                        Ashoka Academy  \n",
      "9      Illinois Institute Of Technology  \n",
      "10           Federal University  Lokoja  \n"
     ]
    }
   ],
   "source": [
    "print(df[['Gender', 'Current/Intended Major', 'Institution Name']].drop_duplicates().head(10))"
   ]
  },
  {
   "cell_type": "markdown",
   "id": "5e2e7024",
   "metadata": {},
   "source": [
    "Check for unusual names: very short, contain digits or special characters"
   ]
  },
  {
   "cell_type": "code",
   "execution_count": 63,
   "id": "d39d517d",
   "metadata": {},
   "outputs": [
    {
     "name": "stdout",
     "output_type": "stream",
     "text": [
      "['Amrutha Varshini', 'Vinay Varshith', 'Marian Morenike', 'Sri Vasista', 'Nandam Venkata Naga Vijay', 'Sai Ram Pulla Reddy', 'Usman Bashir', 'Rp19-Ee-418', 'Lakshmi Naga Sushmit', '19-R-0413', 'Emmanuel Adu', 'Vellala Linga Bhanu Prakash', 'Marzia Maheen', 'Lokesh Reddy', 'Jan Muhammad', 'Heldana Shiferaw', 'Sk', 'Shreeja Yadav', 'Chandan Singh', 'Sri Lalitha']\n"
     ]
    }
   ],
   "source": [
    "unusual_names = df['First Name'].dropna().unique()\n",
    "suspicious = [name for name in unusual_names if len(name) <= 2 or any(char.isdigit() or not char.isalnum() for char in name)]\n",
    "\n",
    "# Print first few suspicious names\n",
    "print(suspicious[:20])\n"
   ]
  },
  {
   "cell_type": "code",
   "execution_count": 64,
   "id": "dd2ec814",
   "metadata": {},
   "outputs": [
    {
     "name": "stdout",
     "output_type": "stream",
     "text": [
      "<class 'pandas.core.frame.DataFrame'>\n",
      "Index: 8024 entries, 0 to 8557\n",
      "Data columns (total 16 columns):\n",
      " #   Column                   Non-Null Count  Dtype         \n",
      "---  ------                   --------------  -----         \n",
      " 0   Learner SignUp DateTime  8024 non-null   datetime64[ns]\n",
      " 1   Opportunity Id           8024 non-null   object        \n",
      " 2   Opportunity Name         8024 non-null   object        \n",
      " 3   Opportunity Category     8024 non-null   object        \n",
      " 4   Opportunity End Date     6849 non-null   datetime64[ns]\n",
      " 5   First Name               8024 non-null   object        \n",
      " 6   Date of Birth            8024 non-null   datetime64[ns]\n",
      " 7   Gender                   8024 non-null   object        \n",
      " 8   Country                  8024 non-null   object        \n",
      " 9   Institution Name         8024 non-null   object        \n",
      " 10  Current/Intended Major   8024 non-null   object        \n",
      " 11  Entry created at         8024 non-null   datetime64[ns]\n",
      " 12  Status Description       8024 non-null   object        \n",
      " 13  Status Code              8024 non-null   int64         \n",
      " 14  Apply Date               8024 non-null   datetime64[ns]\n",
      " 15  Opportunity Start Date   8024 non-null   datetime64[ns]\n",
      "dtypes: datetime64[ns](6), int64(1), object(9)\n",
      "memory usage: 1.0+ MB\n",
      "None\n"
     ]
    }
   ],
   "source": [
    "print(df.info())"
   ]
  },
  {
   "cell_type": "code",
   "execution_count": 65,
   "id": "ddb85b62",
   "metadata": {},
   "outputs": [
    {
     "name": "stdout",
     "output_type": "stream",
     "text": [
      "Learner SignUp DateTime       0\n",
      "Opportunity Id                0\n",
      "Opportunity Name              0\n",
      "Opportunity Category          0\n",
      "Opportunity End Date       1175\n",
      "First Name                    0\n",
      "Date of Birth                 0\n",
      "Gender                        0\n",
      "Country                       0\n",
      "Institution Name              0\n",
      "Current/Intended Major        0\n",
      "Entry created at              0\n",
      "Status Description            0\n",
      "Status Code                   0\n",
      "Apply Date                    0\n",
      "Opportunity Start Date        0\n",
      "dtype: int64\n"
     ]
    }
   ],
   "source": [
    "print(df.isnull().sum())"
   ]
  },
  {
   "cell_type": "code",
   "execution_count": 66,
   "id": "1c0eb1dd",
   "metadata": {},
   "outputs": [],
   "source": [
    "df['Gender'] = df['Gender'].fillna(\"Unknown\")"
   ]
  },
  {
   "cell_type": "code",
   "execution_count": 67,
   "id": "e030248c",
   "metadata": {},
   "outputs": [
    {
     "data": {
      "text/plain": [
       "Learner SignUp DateTime       0\n",
       "Opportunity Id                0\n",
       "Opportunity Name              0\n",
       "Opportunity Category          0\n",
       "Opportunity End Date       1175\n",
       "First Name                    0\n",
       "Date of Birth                 0\n",
       "Gender                        0\n",
       "Country                       0\n",
       "Institution Name              0\n",
       "Current/Intended Major        0\n",
       "Entry created at              0\n",
       "Status Description            0\n",
       "Status Code                   0\n",
       "Apply Date                    0\n",
       "Opportunity Start Date        0\n",
       "dtype: int64"
      ]
     },
     "execution_count": 67,
     "metadata": {},
     "output_type": "execute_result"
    }
   ],
   "source": [
    "df.isnull().sum()"
   ]
  },
  {
   "cell_type": "code",
   "execution_count": 68,
   "id": "a8cad42e",
   "metadata": {},
   "outputs": [],
   "source": [
    "df['Opportunity Start Date'] = pd.to_datetime(df['Opportunity Start Date'], errors='coerce')\n",
    "\n",
    "# Replace each group's 'Opportunity Start Date' with the mode for that group\n",
    "df['Opportunity Start Date'] = (\n",
    "    df.groupby('Opportunity Name')['Opportunity Start Date']\n",
    "    .transform(lambda x: x.mode().iloc[0] if not x.mode().empty else pd.NaT)\n",
    ")"
   ]
  },
  {
   "cell_type": "code",
   "execution_count": 69,
   "id": "d38f203e",
   "metadata": {},
   "outputs": [
    {
     "data": {
      "text/html": [
       "<div>\n",
       "<style scoped>\n",
       "    .dataframe tbody tr th:only-of-type {\n",
       "        vertical-align: middle;\n",
       "    }\n",
       "\n",
       "    .dataframe tbody tr th {\n",
       "        vertical-align: top;\n",
       "    }\n",
       "\n",
       "    .dataframe thead th {\n",
       "        text-align: right;\n",
       "    }\n",
       "</style>\n",
       "<table border=\"1\" class=\"dataframe\">\n",
       "  <thead>\n",
       "    <tr style=\"text-align: right;\">\n",
       "      <th></th>\n",
       "      <th>Learner SignUp DateTime</th>\n",
       "      <th>Opportunity Id</th>\n",
       "      <th>Opportunity Name</th>\n",
       "      <th>Opportunity Category</th>\n",
       "      <th>Opportunity End Date</th>\n",
       "      <th>First Name</th>\n",
       "      <th>Date of Birth</th>\n",
       "      <th>Gender</th>\n",
       "      <th>Country</th>\n",
       "      <th>Institution Name</th>\n",
       "      <th>Current/Intended Major</th>\n",
       "      <th>Entry created at</th>\n",
       "      <th>Status Description</th>\n",
       "      <th>Status Code</th>\n",
       "      <th>Apply Date</th>\n",
       "      <th>Opportunity Start Date</th>\n",
       "      <th>Age</th>\n",
       "    </tr>\n",
       "  </thead>\n",
       "  <tbody>\n",
       "    <tr>\n",
       "      <th>0</th>\n",
       "      <td>2023-06-14 12:30:35</td>\n",
       "      <td>00000000-0GN2-A0AY-7XK8-C5FZPP</td>\n",
       "      <td>Career Essentials: Getting Started with Your P...</td>\n",
       "      <td>Course</td>\n",
       "      <td>2024-06-29 18:52:39</td>\n",
       "      <td>Faria</td>\n",
       "      <td>2001-01-12</td>\n",
       "      <td>Female</td>\n",
       "      <td>Pakistan</td>\n",
       "      <td>Nwihs</td>\n",
       "      <td>Radiology</td>\n",
       "      <td>2024-03-11 12:01:41</td>\n",
       "      <td>Started</td>\n",
       "      <td>1080</td>\n",
       "      <td>2023-06-14 12:36:09</td>\n",
       "      <td>2022-11-03 18:30:39</td>\n",
       "      <td>24</td>\n",
       "    </tr>\n",
       "    <tr>\n",
       "      <th>1</th>\n",
       "      <td>2023-05-01 05:29:16</td>\n",
       "      <td>00000000-0GN2-A0AY-7XK8-C5FZPP</td>\n",
       "      <td>Career Essentials: Getting Started with Your P...</td>\n",
       "      <td>Course</td>\n",
       "      <td>2024-06-29 18:52:39</td>\n",
       "      <td>Poojitha</td>\n",
       "      <td>2000-08-16</td>\n",
       "      <td>Female</td>\n",
       "      <td>India</td>\n",
       "      <td>Saint Louis</td>\n",
       "      <td>Information Systems</td>\n",
       "      <td>2024-03-11 12:01:41</td>\n",
       "      <td>Started</td>\n",
       "      <td>1080</td>\n",
       "      <td>2023-05-01 06:08:21</td>\n",
       "      <td>2022-11-03 18:30:39</td>\n",
       "      <td>25</td>\n",
       "    </tr>\n",
       "    <tr>\n",
       "      <th>3</th>\n",
       "      <td>2023-08-29 05:20:03</td>\n",
       "      <td>00000000-0GN2-A0AY-7XK8-C5FZPP</td>\n",
       "      <td>Career Essentials: Getting Started with Your P...</td>\n",
       "      <td>Course</td>\n",
       "      <td>2024-06-29 18:52:39</td>\n",
       "      <td>Amrutha Varshini</td>\n",
       "      <td>1999-11-01</td>\n",
       "      <td>Female</td>\n",
       "      <td>United States</td>\n",
       "      <td>Saint Louis University</td>\n",
       "      <td>Information Systems</td>\n",
       "      <td>2024-03-11 12:01:41</td>\n",
       "      <td>Team Allocated</td>\n",
       "      <td>1070</td>\n",
       "      <td>2023-10-09 22:02:42</td>\n",
       "      <td>2022-11-03 18:30:39</td>\n",
       "      <td>26</td>\n",
       "    </tr>\n",
       "    <tr>\n",
       "      <th>4</th>\n",
       "      <td>2023-01-06 15:26:36</td>\n",
       "      <td>00000000-0GN2-A0AY-7XK8-C5FZPP</td>\n",
       "      <td>Career Essentials: Getting Started with Your P...</td>\n",
       "      <td>Course</td>\n",
       "      <td>2024-06-29 18:52:39</td>\n",
       "      <td>Vinay Varshith</td>\n",
       "      <td>2000-04-19</td>\n",
       "      <td>Male</td>\n",
       "      <td>United States</td>\n",
       "      <td>Saint Louis University</td>\n",
       "      <td>Computer Science</td>\n",
       "      <td>2024-03-11 12:01:41</td>\n",
       "      <td>Started</td>\n",
       "      <td>1080</td>\n",
       "      <td>2023-01-06 15:40:10</td>\n",
       "      <td>2022-11-03 18:30:39</td>\n",
       "      <td>25</td>\n",
       "    </tr>\n",
       "    <tr>\n",
       "      <th>5</th>\n",
       "      <td>2024-03-02 19:16:07</td>\n",
       "      <td>00000000-0GN2-A0AY-7XK8-C5FZPP</td>\n",
       "      <td>Career Essentials: Getting Started with Your P...</td>\n",
       "      <td>Course</td>\n",
       "      <td>2024-06-29 18:52:39</td>\n",
       "      <td>Mor</td>\n",
       "      <td>1996-05-12</td>\n",
       "      <td>Male</td>\n",
       "      <td>India</td>\n",
       "      <td>Saint Louis University</td>\n",
       "      <td>Mechanical Engineering</td>\n",
       "      <td>2024-03-11 12:01:41</td>\n",
       "      <td>Waitlisted</td>\n",
       "      <td>1040</td>\n",
       "      <td>2024-03-02 20:30:35</td>\n",
       "      <td>2022-11-03 18:30:39</td>\n",
       "      <td>29</td>\n",
       "    </tr>\n",
       "  </tbody>\n",
       "</table>\n",
       "</div>"
      ],
      "text/plain": [
       "  Learner SignUp DateTime                  Opportunity Id  \\\n",
       "0     2023-06-14 12:30:35  00000000-0GN2-A0AY-7XK8-C5FZPP   \n",
       "1     2023-05-01 05:29:16  00000000-0GN2-A0AY-7XK8-C5FZPP   \n",
       "3     2023-08-29 05:20:03  00000000-0GN2-A0AY-7XK8-C5FZPP   \n",
       "4     2023-01-06 15:26:36  00000000-0GN2-A0AY-7XK8-C5FZPP   \n",
       "5     2024-03-02 19:16:07  00000000-0GN2-A0AY-7XK8-C5FZPP   \n",
       "\n",
       "                                    Opportunity Name Opportunity Category  \\\n",
       "0  Career Essentials: Getting Started with Your P...               Course   \n",
       "1  Career Essentials: Getting Started with Your P...               Course   \n",
       "3  Career Essentials: Getting Started with Your P...               Course   \n",
       "4  Career Essentials: Getting Started with Your P...               Course   \n",
       "5  Career Essentials: Getting Started with Your P...               Course   \n",
       "\n",
       "  Opportunity End Date        First Name Date of Birth  Gender        Country  \\\n",
       "0  2024-06-29 18:52:39             Faria    2001-01-12  Female       Pakistan   \n",
       "1  2024-06-29 18:52:39          Poojitha    2000-08-16  Female          India   \n",
       "3  2024-06-29 18:52:39  Amrutha Varshini    1999-11-01  Female  United States   \n",
       "4  2024-06-29 18:52:39    Vinay Varshith    2000-04-19    Male  United States   \n",
       "5  2024-06-29 18:52:39               Mor    1996-05-12    Male          India   \n",
       "\n",
       "         Institution Name  Current/Intended Major    Entry created at  \\\n",
       "0                   Nwihs               Radiology 2024-03-11 12:01:41   \n",
       "1             Saint Louis     Information Systems 2024-03-11 12:01:41   \n",
       "3  Saint Louis University     Information Systems 2024-03-11 12:01:41   \n",
       "4  Saint Louis University        Computer Science 2024-03-11 12:01:41   \n",
       "5  Saint Louis University  Mechanical Engineering 2024-03-11 12:01:41   \n",
       "\n",
       "  Status Description  Status Code          Apply Date Opportunity Start Date  \\\n",
       "0            Started         1080 2023-06-14 12:36:09    2022-11-03 18:30:39   \n",
       "1            Started         1080 2023-05-01 06:08:21    2022-11-03 18:30:39   \n",
       "3     Team Allocated         1070 2023-10-09 22:02:42    2022-11-03 18:30:39   \n",
       "4            Started         1080 2023-01-06 15:40:10    2022-11-03 18:30:39   \n",
       "5         Waitlisted         1040 2024-03-02 20:30:35    2022-11-03 18:30:39   \n",
       "\n",
       "   Age  \n",
       "0   24  \n",
       "1   25  \n",
       "3   26  \n",
       "4   25  \n",
       "5   29  "
      ]
     },
     "metadata": {},
     "output_type": "display_data"
    }
   ],
   "source": [
    "from datetime import datetime\n",
    "\n",
    "# Calculate age\n",
    "df['Age'] = df['Date of Birth'].apply(lambda dob: datetime.now().year - dob.year)\n",
    "\n",
    "# Display the head to verify the new column\n",
    "display(df.head())"
   ]
  },
  {
   "cell_type": "code",
   "execution_count": 70,
   "id": "5958be88",
   "metadata": {},
   "outputs": [
    {
     "name": "stdout",
     "output_type": "stream",
     "text": [
      "Suspicious names found:\n",
      "['Rp19-Ee-418', '19-R-0413', 'Sk', 'Nữ', 'Manish3Test3', 'Sp', 'Habib.', 'E', 'गरिमा', 'Om', 'V', 'Md', 'Sana_', 'Navnath3Test3', 'K', 'Manmeet3Test3', 'Am014', '20 012', '11', 'Mr']\n"
     ]
    }
   ],
   "source": [
    "# Identify unusual names: very short, contain digits or special characters\n",
    "unusual_names = df['First Name'].dropna().unique()\n",
    "suspicious = [name for name in unusual_names if len(name.replace(\" \", \"\")) <= 2 or any(char.isdigit() or not char.isalnum() and char != ' ' for char in name)]\n",
    "\n",
    "# Print first few suspicious names\n",
    "print(\"Suspicious names found:\")\n",
    "print(suspicious[:20])"
   ]
  },
  {
   "cell_type": "code",
   "execution_count": 71,
   "id": "93113338",
   "metadata": {},
   "outputs": [
    {
     "name": "stdout",
     "output_type": "stream",
     "text": [
      "Shape of DataFrame after dropping rows with suspicious names: (7947, 17)\n"
     ]
    },
    {
     "data": {
      "text/html": [
       "<div>\n",
       "<style scoped>\n",
       "    .dataframe tbody tr th:only-of-type {\n",
       "        vertical-align: middle;\n",
       "    }\n",
       "\n",
       "    .dataframe tbody tr th {\n",
       "        vertical-align: top;\n",
       "    }\n",
       "\n",
       "    .dataframe thead th {\n",
       "        text-align: right;\n",
       "    }\n",
       "</style>\n",
       "<table border=\"1\" class=\"dataframe\">\n",
       "  <thead>\n",
       "    <tr style=\"text-align: right;\">\n",
       "      <th></th>\n",
       "      <th>Learner SignUp DateTime</th>\n",
       "      <th>Opportunity Id</th>\n",
       "      <th>Opportunity Name</th>\n",
       "      <th>Opportunity Category</th>\n",
       "      <th>Opportunity End Date</th>\n",
       "      <th>First Name</th>\n",
       "      <th>Date of Birth</th>\n",
       "      <th>Gender</th>\n",
       "      <th>Country</th>\n",
       "      <th>Institution Name</th>\n",
       "      <th>Current/Intended Major</th>\n",
       "      <th>Entry created at</th>\n",
       "      <th>Status Description</th>\n",
       "      <th>Status Code</th>\n",
       "      <th>Apply Date</th>\n",
       "      <th>Opportunity Start Date</th>\n",
       "      <th>Age</th>\n",
       "    </tr>\n",
       "  </thead>\n",
       "  <tbody>\n",
       "    <tr>\n",
       "      <th>0</th>\n",
       "      <td>2023-06-14 12:30:35</td>\n",
       "      <td>00000000-0GN2-A0AY-7XK8-C5FZPP</td>\n",
       "      <td>Career Essentials: Getting Started with Your P...</td>\n",
       "      <td>Course</td>\n",
       "      <td>2024-06-29 18:52:39</td>\n",
       "      <td>Faria</td>\n",
       "      <td>2001-01-12</td>\n",
       "      <td>Female</td>\n",
       "      <td>Pakistan</td>\n",
       "      <td>Nwihs</td>\n",
       "      <td>Radiology</td>\n",
       "      <td>2024-03-11 12:01:41</td>\n",
       "      <td>Started</td>\n",
       "      <td>1080</td>\n",
       "      <td>2023-06-14 12:36:09</td>\n",
       "      <td>2022-11-03 18:30:39</td>\n",
       "      <td>24</td>\n",
       "    </tr>\n",
       "    <tr>\n",
       "      <th>1</th>\n",
       "      <td>2023-05-01 05:29:16</td>\n",
       "      <td>00000000-0GN2-A0AY-7XK8-C5FZPP</td>\n",
       "      <td>Career Essentials: Getting Started with Your P...</td>\n",
       "      <td>Course</td>\n",
       "      <td>2024-06-29 18:52:39</td>\n",
       "      <td>Poojitha</td>\n",
       "      <td>2000-08-16</td>\n",
       "      <td>Female</td>\n",
       "      <td>India</td>\n",
       "      <td>Saint Louis</td>\n",
       "      <td>Information Systems</td>\n",
       "      <td>2024-03-11 12:01:41</td>\n",
       "      <td>Started</td>\n",
       "      <td>1080</td>\n",
       "      <td>2023-05-01 06:08:21</td>\n",
       "      <td>2022-11-03 18:30:39</td>\n",
       "      <td>25</td>\n",
       "    </tr>\n",
       "    <tr>\n",
       "      <th>3</th>\n",
       "      <td>2023-08-29 05:20:03</td>\n",
       "      <td>00000000-0GN2-A0AY-7XK8-C5FZPP</td>\n",
       "      <td>Career Essentials: Getting Started with Your P...</td>\n",
       "      <td>Course</td>\n",
       "      <td>2024-06-29 18:52:39</td>\n",
       "      <td>Amrutha Varshini</td>\n",
       "      <td>1999-11-01</td>\n",
       "      <td>Female</td>\n",
       "      <td>United States</td>\n",
       "      <td>Saint Louis University</td>\n",
       "      <td>Information Systems</td>\n",
       "      <td>2024-03-11 12:01:41</td>\n",
       "      <td>Team Allocated</td>\n",
       "      <td>1070</td>\n",
       "      <td>2023-10-09 22:02:42</td>\n",
       "      <td>2022-11-03 18:30:39</td>\n",
       "      <td>26</td>\n",
       "    </tr>\n",
       "    <tr>\n",
       "      <th>4</th>\n",
       "      <td>2023-01-06 15:26:36</td>\n",
       "      <td>00000000-0GN2-A0AY-7XK8-C5FZPP</td>\n",
       "      <td>Career Essentials: Getting Started with Your P...</td>\n",
       "      <td>Course</td>\n",
       "      <td>2024-06-29 18:52:39</td>\n",
       "      <td>Vinay Varshith</td>\n",
       "      <td>2000-04-19</td>\n",
       "      <td>Male</td>\n",
       "      <td>United States</td>\n",
       "      <td>Saint Louis University</td>\n",
       "      <td>Computer Science</td>\n",
       "      <td>2024-03-11 12:01:41</td>\n",
       "      <td>Started</td>\n",
       "      <td>1080</td>\n",
       "      <td>2023-01-06 15:40:10</td>\n",
       "      <td>2022-11-03 18:30:39</td>\n",
       "      <td>25</td>\n",
       "    </tr>\n",
       "    <tr>\n",
       "      <th>5</th>\n",
       "      <td>2024-03-02 19:16:07</td>\n",
       "      <td>00000000-0GN2-A0AY-7XK8-C5FZPP</td>\n",
       "      <td>Career Essentials: Getting Started with Your P...</td>\n",
       "      <td>Course</td>\n",
       "      <td>2024-06-29 18:52:39</td>\n",
       "      <td>Mor</td>\n",
       "      <td>1996-05-12</td>\n",
       "      <td>Male</td>\n",
       "      <td>India</td>\n",
       "      <td>Saint Louis University</td>\n",
       "      <td>Mechanical Engineering</td>\n",
       "      <td>2024-03-11 12:01:41</td>\n",
       "      <td>Waitlisted</td>\n",
       "      <td>1040</td>\n",
       "      <td>2024-03-02 20:30:35</td>\n",
       "      <td>2022-11-03 18:30:39</td>\n",
       "      <td>29</td>\n",
       "    </tr>\n",
       "  </tbody>\n",
       "</table>\n",
       "</div>"
      ],
      "text/plain": [
       "  Learner SignUp DateTime                  Opportunity Id  \\\n",
       "0     2023-06-14 12:30:35  00000000-0GN2-A0AY-7XK8-C5FZPP   \n",
       "1     2023-05-01 05:29:16  00000000-0GN2-A0AY-7XK8-C5FZPP   \n",
       "3     2023-08-29 05:20:03  00000000-0GN2-A0AY-7XK8-C5FZPP   \n",
       "4     2023-01-06 15:26:36  00000000-0GN2-A0AY-7XK8-C5FZPP   \n",
       "5     2024-03-02 19:16:07  00000000-0GN2-A0AY-7XK8-C5FZPP   \n",
       "\n",
       "                                    Opportunity Name Opportunity Category  \\\n",
       "0  Career Essentials: Getting Started with Your P...               Course   \n",
       "1  Career Essentials: Getting Started with Your P...               Course   \n",
       "3  Career Essentials: Getting Started with Your P...               Course   \n",
       "4  Career Essentials: Getting Started with Your P...               Course   \n",
       "5  Career Essentials: Getting Started with Your P...               Course   \n",
       "\n",
       "  Opportunity End Date        First Name Date of Birth  Gender        Country  \\\n",
       "0  2024-06-29 18:52:39             Faria    2001-01-12  Female       Pakistan   \n",
       "1  2024-06-29 18:52:39          Poojitha    2000-08-16  Female          India   \n",
       "3  2024-06-29 18:52:39  Amrutha Varshini    1999-11-01  Female  United States   \n",
       "4  2024-06-29 18:52:39    Vinay Varshith    2000-04-19    Male  United States   \n",
       "5  2024-06-29 18:52:39               Mor    1996-05-12    Male          India   \n",
       "\n",
       "         Institution Name  Current/Intended Major    Entry created at  \\\n",
       "0                   Nwihs               Radiology 2024-03-11 12:01:41   \n",
       "1             Saint Louis     Information Systems 2024-03-11 12:01:41   \n",
       "3  Saint Louis University     Information Systems 2024-03-11 12:01:41   \n",
       "4  Saint Louis University        Computer Science 2024-03-11 12:01:41   \n",
       "5  Saint Louis University  Mechanical Engineering 2024-03-11 12:01:41   \n",
       "\n",
       "  Status Description  Status Code          Apply Date Opportunity Start Date  \\\n",
       "0            Started         1080 2023-06-14 12:36:09    2022-11-03 18:30:39   \n",
       "1            Started         1080 2023-05-01 06:08:21    2022-11-03 18:30:39   \n",
       "3     Team Allocated         1070 2023-10-09 22:02:42    2022-11-03 18:30:39   \n",
       "4            Started         1080 2023-01-06 15:40:10    2022-11-03 18:30:39   \n",
       "5         Waitlisted         1040 2024-03-02 20:30:35    2022-11-03 18:30:39   \n",
       "\n",
       "   Age  \n",
       "0   24  \n",
       "1   25  \n",
       "3   26  \n",
       "4   25  \n",
       "5   29  "
      ]
     },
     "metadata": {},
     "output_type": "display_data"
    }
   ],
   "source": [
    "# Drop rows with suspicious names\n",
    "df = df[~df['First Name'].isin(suspicious)]\n",
    "\n",
    "# Display the shape of the DataFrame to see how many rows were dropped\n",
    "print(f\"Shape of DataFrame after dropping rows with suspicious names: {df.shape}\")\n",
    "\n",
    "# Display the head of the DataFrame to see the updated data\n",
    "display(df.head())"
   ]
  },
  {
   "cell_type": "code",
   "execution_count": 72,
   "id": "1075403a",
   "metadata": {},
   "outputs": [
    {
     "name": "stdout",
     "output_type": "stream",
     "text": [
      "Shape of DataFrame after dropping rows with missing 'Opportunity End Date': (6778, 17)\n"
     ]
    },
    {
     "data": {
      "text/html": [
       "<div>\n",
       "<style scoped>\n",
       "    .dataframe tbody tr th:only-of-type {\n",
       "        vertical-align: middle;\n",
       "    }\n",
       "\n",
       "    .dataframe tbody tr th {\n",
       "        vertical-align: top;\n",
       "    }\n",
       "\n",
       "    .dataframe thead th {\n",
       "        text-align: right;\n",
       "    }\n",
       "</style>\n",
       "<table border=\"1\" class=\"dataframe\">\n",
       "  <thead>\n",
       "    <tr style=\"text-align: right;\">\n",
       "      <th></th>\n",
       "      <th>Learner SignUp DateTime</th>\n",
       "      <th>Opportunity Id</th>\n",
       "      <th>Opportunity Name</th>\n",
       "      <th>Opportunity Category</th>\n",
       "      <th>Opportunity End Date</th>\n",
       "      <th>First Name</th>\n",
       "      <th>Date of Birth</th>\n",
       "      <th>Gender</th>\n",
       "      <th>Country</th>\n",
       "      <th>Institution Name</th>\n",
       "      <th>Current/Intended Major</th>\n",
       "      <th>Entry created at</th>\n",
       "      <th>Status Description</th>\n",
       "      <th>Status Code</th>\n",
       "      <th>Apply Date</th>\n",
       "      <th>Opportunity Start Date</th>\n",
       "      <th>Age</th>\n",
       "    </tr>\n",
       "  </thead>\n",
       "  <tbody>\n",
       "    <tr>\n",
       "      <th>0</th>\n",
       "      <td>2023-06-14 12:30:35</td>\n",
       "      <td>00000000-0GN2-A0AY-7XK8-C5FZPP</td>\n",
       "      <td>Career Essentials: Getting Started with Your P...</td>\n",
       "      <td>Course</td>\n",
       "      <td>2024-06-29 18:52:39</td>\n",
       "      <td>Faria</td>\n",
       "      <td>2001-01-12</td>\n",
       "      <td>Female</td>\n",
       "      <td>Pakistan</td>\n",
       "      <td>Nwihs</td>\n",
       "      <td>Radiology</td>\n",
       "      <td>2024-03-11 12:01:41</td>\n",
       "      <td>Started</td>\n",
       "      <td>1080</td>\n",
       "      <td>2023-06-14 12:36:09</td>\n",
       "      <td>2022-11-03 18:30:39</td>\n",
       "      <td>24</td>\n",
       "    </tr>\n",
       "    <tr>\n",
       "      <th>1</th>\n",
       "      <td>2023-05-01 05:29:16</td>\n",
       "      <td>00000000-0GN2-A0AY-7XK8-C5FZPP</td>\n",
       "      <td>Career Essentials: Getting Started with Your P...</td>\n",
       "      <td>Course</td>\n",
       "      <td>2024-06-29 18:52:39</td>\n",
       "      <td>Poojitha</td>\n",
       "      <td>2000-08-16</td>\n",
       "      <td>Female</td>\n",
       "      <td>India</td>\n",
       "      <td>Saint Louis</td>\n",
       "      <td>Information Systems</td>\n",
       "      <td>2024-03-11 12:01:41</td>\n",
       "      <td>Started</td>\n",
       "      <td>1080</td>\n",
       "      <td>2023-05-01 06:08:21</td>\n",
       "      <td>2022-11-03 18:30:39</td>\n",
       "      <td>25</td>\n",
       "    </tr>\n",
       "    <tr>\n",
       "      <th>3</th>\n",
       "      <td>2023-08-29 05:20:03</td>\n",
       "      <td>00000000-0GN2-A0AY-7XK8-C5FZPP</td>\n",
       "      <td>Career Essentials: Getting Started with Your P...</td>\n",
       "      <td>Course</td>\n",
       "      <td>2024-06-29 18:52:39</td>\n",
       "      <td>Amrutha Varshini</td>\n",
       "      <td>1999-11-01</td>\n",
       "      <td>Female</td>\n",
       "      <td>United States</td>\n",
       "      <td>Saint Louis University</td>\n",
       "      <td>Information Systems</td>\n",
       "      <td>2024-03-11 12:01:41</td>\n",
       "      <td>Team Allocated</td>\n",
       "      <td>1070</td>\n",
       "      <td>2023-10-09 22:02:42</td>\n",
       "      <td>2022-11-03 18:30:39</td>\n",
       "      <td>26</td>\n",
       "    </tr>\n",
       "    <tr>\n",
       "      <th>4</th>\n",
       "      <td>2023-01-06 15:26:36</td>\n",
       "      <td>00000000-0GN2-A0AY-7XK8-C5FZPP</td>\n",
       "      <td>Career Essentials: Getting Started with Your P...</td>\n",
       "      <td>Course</td>\n",
       "      <td>2024-06-29 18:52:39</td>\n",
       "      <td>Vinay Varshith</td>\n",
       "      <td>2000-04-19</td>\n",
       "      <td>Male</td>\n",
       "      <td>United States</td>\n",
       "      <td>Saint Louis University</td>\n",
       "      <td>Computer Science</td>\n",
       "      <td>2024-03-11 12:01:41</td>\n",
       "      <td>Started</td>\n",
       "      <td>1080</td>\n",
       "      <td>2023-01-06 15:40:10</td>\n",
       "      <td>2022-11-03 18:30:39</td>\n",
       "      <td>25</td>\n",
       "    </tr>\n",
       "    <tr>\n",
       "      <th>5</th>\n",
       "      <td>2024-03-02 19:16:07</td>\n",
       "      <td>00000000-0GN2-A0AY-7XK8-C5FZPP</td>\n",
       "      <td>Career Essentials: Getting Started with Your P...</td>\n",
       "      <td>Course</td>\n",
       "      <td>2024-06-29 18:52:39</td>\n",
       "      <td>Mor</td>\n",
       "      <td>1996-05-12</td>\n",
       "      <td>Male</td>\n",
       "      <td>India</td>\n",
       "      <td>Saint Louis University</td>\n",
       "      <td>Mechanical Engineering</td>\n",
       "      <td>2024-03-11 12:01:41</td>\n",
       "      <td>Waitlisted</td>\n",
       "      <td>1040</td>\n",
       "      <td>2024-03-02 20:30:35</td>\n",
       "      <td>2022-11-03 18:30:39</td>\n",
       "      <td>29</td>\n",
       "    </tr>\n",
       "  </tbody>\n",
       "</table>\n",
       "</div>"
      ],
      "text/plain": [
       "  Learner SignUp DateTime                  Opportunity Id  \\\n",
       "0     2023-06-14 12:30:35  00000000-0GN2-A0AY-7XK8-C5FZPP   \n",
       "1     2023-05-01 05:29:16  00000000-0GN2-A0AY-7XK8-C5FZPP   \n",
       "3     2023-08-29 05:20:03  00000000-0GN2-A0AY-7XK8-C5FZPP   \n",
       "4     2023-01-06 15:26:36  00000000-0GN2-A0AY-7XK8-C5FZPP   \n",
       "5     2024-03-02 19:16:07  00000000-0GN2-A0AY-7XK8-C5FZPP   \n",
       "\n",
       "                                    Opportunity Name Opportunity Category  \\\n",
       "0  Career Essentials: Getting Started with Your P...               Course   \n",
       "1  Career Essentials: Getting Started with Your P...               Course   \n",
       "3  Career Essentials: Getting Started with Your P...               Course   \n",
       "4  Career Essentials: Getting Started with Your P...               Course   \n",
       "5  Career Essentials: Getting Started with Your P...               Course   \n",
       "\n",
       "  Opportunity End Date        First Name Date of Birth  Gender        Country  \\\n",
       "0  2024-06-29 18:52:39             Faria    2001-01-12  Female       Pakistan   \n",
       "1  2024-06-29 18:52:39          Poojitha    2000-08-16  Female          India   \n",
       "3  2024-06-29 18:52:39  Amrutha Varshini    1999-11-01  Female  United States   \n",
       "4  2024-06-29 18:52:39    Vinay Varshith    2000-04-19    Male  United States   \n",
       "5  2024-06-29 18:52:39               Mor    1996-05-12    Male          India   \n",
       "\n",
       "         Institution Name  Current/Intended Major    Entry created at  \\\n",
       "0                   Nwihs               Radiology 2024-03-11 12:01:41   \n",
       "1             Saint Louis     Information Systems 2024-03-11 12:01:41   \n",
       "3  Saint Louis University     Information Systems 2024-03-11 12:01:41   \n",
       "4  Saint Louis University        Computer Science 2024-03-11 12:01:41   \n",
       "5  Saint Louis University  Mechanical Engineering 2024-03-11 12:01:41   \n",
       "\n",
       "  Status Description  Status Code          Apply Date Opportunity Start Date  \\\n",
       "0            Started         1080 2023-06-14 12:36:09    2022-11-03 18:30:39   \n",
       "1            Started         1080 2023-05-01 06:08:21    2022-11-03 18:30:39   \n",
       "3     Team Allocated         1070 2023-10-09 22:02:42    2022-11-03 18:30:39   \n",
       "4            Started         1080 2023-01-06 15:40:10    2022-11-03 18:30:39   \n",
       "5         Waitlisted         1040 2024-03-02 20:30:35    2022-11-03 18:30:39   \n",
       "\n",
       "   Age  \n",
       "0   24  \n",
       "1   25  \n",
       "3   26  \n",
       "4   25  \n",
       "5   29  "
      ]
     },
     "metadata": {},
     "output_type": "display_data"
    }
   ],
   "source": [
    "# Drop rows with missing 'Opportunity End Date'\n",
    "df.dropna(subset=['Opportunity End Date'], inplace=True)\n",
    "\n",
    "# Display the shape of the DataFrame after dropping\n",
    "print(f\"Shape of DataFrame after dropping rows with missing 'Opportunity End Date': {df.shape}\")\n",
    "\n",
    "# Display the head to see the updated data\n",
    "display(df.head())"
   ]
  },
  {
   "cell_type": "code",
   "execution_count": 73,
   "id": "3717e280",
   "metadata": {},
   "outputs": [
    {
     "data": {
      "text/plain": [
       "(6778, 17)"
      ]
     },
     "execution_count": 73,
     "metadata": {},
     "output_type": "execute_result"
    }
   ],
   "source": [
    "df.shape"
   ]
  },
  {
   "cell_type": "code",
   "execution_count": 74,
   "id": "d8133d59",
   "metadata": {},
   "outputs": [
    {
     "data": {
      "text/plain": [
       "Learner SignUp DateTime    0\n",
       "Opportunity Id             0\n",
       "Opportunity Name           0\n",
       "Opportunity Category       0\n",
       "Opportunity End Date       0\n",
       "First Name                 0\n",
       "Date of Birth              0\n",
       "Gender                     0\n",
       "Country                    0\n",
       "Institution Name           0\n",
       "Current/Intended Major     0\n",
       "Entry created at           0\n",
       "Status Description         0\n",
       "Status Code                0\n",
       "Apply Date                 0\n",
       "Opportunity Start Date     0\n",
       "Age                        0\n",
       "dtype: int64"
      ]
     },
     "execution_count": 74,
     "metadata": {},
     "output_type": "execute_result"
    }
   ],
   "source": [
    "df.isnull().sum()"
   ]
  },
  {
   "cell_type": "code",
   "execution_count": 75,
   "id": "fd037723",
   "metadata": {},
   "outputs": [
    {
     "name": "stdout",
     "output_type": "stream",
     "text": [
      "\n",
      " Saved cleaned_data.csv!\n"
     ]
    }
   ],
   "source": [
    "df.to_csv('cleaned_data_final.csv', index=False)\n",
    "print(\"\\n Saved cleaned_data.csv!\")"
   ]
  },
  {
   "cell_type": "code",
   "execution_count": 76,
   "id": "c906e69c",
   "metadata": {},
   "outputs": [
    {
     "name": "stdout",
     "output_type": "stream",
     "text": [
      "\n",
      "Outlier Summary for Age:\n",
      "Lower Bound: 17.0\n",
      "Upper Bound: 33.0\n",
      "Outlier Count: 379\n",
      "\n",
      "Outlier Summary for Opportunity Duration (Days):\n",
      "Lower Bound: 493.0\n",
      "Upper Bound: 493.0\n",
      "Outlier Count: 2736\n",
      "\n",
      " Cleaned dataset saved as 'cleaned_data_final_no_outliers.csv'\n"
     ]
    }
   ],
   "source": [
    "import pandas as pd\n",
    "\n",
    "# Step 1: Load your data\n",
    "df = pd.read_csv(\"cleaned_data_final.csv\")\n",
    "\n",
    "# Step 2: Convert start and end dates to datetime\n",
    "df['Opportunity Start Date'] = pd.to_datetime(df['Opportunity Start Date'], errors='coerce')\n",
    "df['Opportunity End Date'] = pd.to_datetime(df['Opportunity End Date'], errors='coerce')\n",
    "\n",
    "# Step 3: Create internship duration column in days\n",
    "df['Opportunity Duration (Days)'] = (df['Opportunity End Date'] - df['Opportunity Start Date']).dt.days\n",
    "\n",
    "# Step 4: Define columns to check for outliers\n",
    "columns_to_check = ['Age', 'Opportunity Duration (Days)']\n",
    "\n",
    "# Step 5: Outlier detection and removal\n",
    "outliers_summary = {}\n",
    "\n",
    "for col in columns_to_check:\n",
    "    Q1 = df[col].quantile(0.25)\n",
    "    Q3 = df[col].quantile(0.75)\n",
    "    IQR = Q3 - Q1\n",
    "    lower = Q1 - 1.5 * IQR\n",
    "    upper = Q3 + 1.5 * IQR\n",
    "\n",
    "    outliers = df[(df[col] < lower) | (df[col] > upper)]\n",
    "    outliers_summary[col] = {\n",
    "        'Lower Bound': lower,\n",
    "        'Upper Bound': upper,\n",
    "        'Outlier Count': outliers.shape[0]\n",
    "    }\n",
    "\n",
    "    # Remove outliers from the DataFrame\n",
    "    df = df[(df[col] >= lower) & (df[col] <= upper)]\n",
    "\n",
    "# Step 6: Print summary\n",
    "for col, stats in outliers_summary.items():\n",
    "    print(f\"\\nOutlier Summary for {col}:\")\n",
    "    for k, v in stats.items():\n",
    "        print(f\"{k}: {v}\")\n",
    "\n",
    "# Step 7: Save cleaned dataset\n",
    "df.to_csv(\"cleaned_data_final_no_outliers.csv\", index=False)\n",
    "print(\"\\n Cleaned dataset saved as 'cleaned_data_final_no_outliers.csv'\")\n"
   ]
  },
  {
   "cell_type": "code",
   "execution_count": 77,
   "id": "d3412e3a",
   "metadata": {},
   "outputs": [
    {
     "data": {
      "text/plain": [
       "(3663, 18)"
      ]
     },
     "execution_count": 77,
     "metadata": {},
     "output_type": "execute_result"
    }
   ],
   "source": [
    "df.shape"
   ]
  }
 ],
 "metadata": {
  "kernelspec": {
   "display_name": ".venv",
   "language": "python",
   "name": "python3"
  },
  "language_info": {
   "codemirror_mode": {
    "name": "ipython",
    "version": 3
   },
   "file_extension": ".py",
   "mimetype": "text/x-python",
   "name": "python",
   "nbconvert_exporter": "python",
   "pygments_lexer": "ipython3",
   "version": "3.13.0"
  }
 },
 "nbformat": 4,
 "nbformat_minor": 5
}
