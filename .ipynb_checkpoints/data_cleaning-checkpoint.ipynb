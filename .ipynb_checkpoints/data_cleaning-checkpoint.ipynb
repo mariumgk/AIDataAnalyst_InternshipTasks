{
 "cells": [
  {
   "cell_type": "markdown",
   "id": "80e78ac3",
   "metadata": {},
   "source": [
    "DATA CLEANING NOTEBOOK"
   ]
  },
  {
   "cell_type": "code",
   "execution_count": 1,
   "id": "b5a660cf",
   "metadata": {},
   "outputs": [],
   "source": [
    "# 1. Import necessary libraries\n",
    "import pandas as pd\n",
    "import numpy as np\n"
   ]
  },
  {
   "cell_type": "code",
   "execution_count": 2,
   "id": "36ecda5e",
   "metadata": {},
   "outputs": [],
   "source": [
    "data = pd.read_csv('SLU Opportunity Wise Data.csv')"
   ]
  },
  {
   "cell_type": "code",
   "execution_count": 3,
   "id": "ea84752d",
   "metadata": {},
   "outputs": [
    {
     "name": "stdout",
     "output_type": "stream",
     "text": [
      "First 5 rows:\n",
      "  Learner SignUp DateTime                  Opportunity Id  \\\n",
      "0     06/14/2023 12:30:35  00000000-0GN2-A0AY-7XK8-C5FZPP   \n",
      "1     05/01/2023 05:29:16  00000000-0GN2-A0AY-7XK8-C5FZPP   \n",
      "2     04/09/2023 20:35:08  00000000-0GN2-A0AY-7XK8-C5FZPP   \n",
      "3     08/29/2023 05:20:03  00000000-0GN2-A0AY-7XK8-C5FZPP   \n",
      "4     01/06/2023 15:26:36  00000000-0GN2-A0AY-7XK8-C5FZPP   \n",
      "\n",
      "                                    Opportunity Name Opportunity Category  \\\n",
      "0  Career Essentials: Getting Started with Your P...               Course   \n",
      "1  Career Essentials: Getting Started with Your P...               Course   \n",
      "2  Career Essentials: Getting Started with Your P...               Course   \n",
      "3  Career Essentials: Getting Started with Your P...               Course   \n",
      "4  Career Essentials: Getting Started with Your P...               Course   \n",
      "\n",
      "  Opportunity End Date        First Name Date of Birth  Gender        Country  \\\n",
      "0  06/29/2024 18:52:39             Faria    01/12/2001  Female       Pakistan   \n",
      "1  06/29/2024 18:52:39          Poojitha    08/16/2000  Female          India   \n",
      "2  06/29/2024 18:52:39          Emmanuel    01/27/2002    Male  United States   \n",
      "3  06/29/2024 18:52:39  Amrutha Varshini    11/01/1999  Female  United States   \n",
      "4  06/29/2024 18:52:39    Vinay Varshith    04/19/2000    Male  United States   \n",
      "\n",
      "                   Institution Name Current/Intended Major  \\\n",
      "0                             Nwihs              Radiology   \n",
      "1                       SAINT LOUIS    Information Systems   \n",
      "2  Illinois Institute of Technology       Computer Science   \n",
      "3            Saint Louis University    Information Systems   \n",
      "4            Saint Louis University       Computer Science   \n",
      "\n",
      "      Entry created at Status Description  Status Code  \\\n",
      "0  03/11/2024 12:01:41            Started         1080   \n",
      "1  03/11/2024 12:01:41            Started         1080   \n",
      "2  03/11/2024 12:01:41            Started         1080   \n",
      "3  03/11/2024 12:01:41     Team Allocated         1070   \n",
      "4  03/11/2024 12:01:41            Started         1080   \n",
      "\n",
      "                 Apply Date Opportunity Start Date  \n",
      "0       06/14/2023 12:36:09    11/03/2022 18:30:39  \n",
      "1       05/01/2023 06:08:21    11/03/2022 18:30:39  \n",
      "2  05/11/2023 1085640:21:29    11/03/2022 18:30:39  \n",
      "3       10/09/2023 22:02:42    11/03/2022 18:30:39  \n",
      "4       01/06/2023 15:40:10    11/03/2022 18:30:39  \n"
     ]
    }
   ],
   "source": [
    "# 3. First look at the data\n",
    "print(\"First 5 rows:\")\n",
    "print(data.head())"
   ]
  },
  {
   "cell_type": "code",
   "execution_count": 6,
   "id": "dd6237f9",
   "metadata": {},
   "outputs": [
    {
     "name": "stdout",
     "output_type": "stream",
     "text": [
      "\n",
      "Data shape (rows, columns):\n",
      "(8558, 16)\n"
     ]
    }
   ],
   "source": [
    "print(\"\\nData shape (rows, columns):\")\n",
    "print(data.shape)"
   ]
  },
  {
   "cell_type": "code",
   "execution_count": 15,
   "id": "bf255ff2",
   "metadata": {},
   "outputs": [
    {
     "name": "stdout",
     "output_type": "stream",
     "text": [
      "\n",
      "Number of Duplicates: 0\n"
     ]
    }
   ],
   "source": [
    "# Check for duplicate rows\n",
    "print(\"\\nNumber of Duplicates:\", data.duplicated().sum())"
   ]
  },
  {
   "cell_type": "code",
   "execution_count": 8,
   "id": "ef6f56de",
   "metadata": {},
   "outputs": [
    {
     "name": "stdout",
     "output_type": "stream",
     "text": [
      "\n",
      "Missing values in each column:\n",
      "Learner SignUp DateTime       0\n",
      "Opportunity Id                0\n",
      "Opportunity Name              0\n",
      "Opportunity Category          0\n",
      "Opportunity End Date          0\n",
      "First Name                    0\n",
      "Date of Birth                 0\n",
      "Gender                        0\n",
      "Country                       0\n",
      "Institution Name              5\n",
      "Current/Intended Major        5\n",
      "Entry created at              0\n",
      "Status Description            0\n",
      "Status Code                   0\n",
      "Apply Date                    0\n",
      "Opportunity Start Date     3794\n",
      "dtype: int64\n"
     ]
    }
   ],
   "source": [
    "print(\"\\nMissing values in each column:\")\n",
    "print(data.isnull().sum())"
   ]
  },
  {
   "cell_type": "markdown",
   "id": "e4715624",
   "metadata": {},
   "source": [
    "Convert Date columns into proper date format"
   ]
  },
  {
   "cell_type": "code",
   "execution_count": 18,
   "id": "fe17ef5a",
   "metadata": {},
   "outputs": [
    {
     "name": "stdout",
     "output_type": "stream",
     "text": [
      "Columns converted to datetime: ['Learner SignUp DateTime', 'Date of Birth', 'Apply Date', 'Opportunity Start Date', 'Opportunity End Date']\n",
      "\n",
      "Converted date columns:\n",
      "  Learner SignUp DateTime Date of Birth Apply Date Opportunity Start Date  \\\n",
      "0     2023-06-14 12:30:35    2001-01-12 2023-06-14    2022-11-03 18:30:39   \n",
      "1     2023-05-01 05:29:16    2000-08-16 2023-05-01    2022-11-03 18:30:39   \n",
      "2     2023-04-09 20:35:08    2002-01-27        NaT    2022-11-03 18:30:39   \n",
      "3     2023-08-29 05:20:03    1999-11-01 2023-10-09    2022-11-03 18:30:39   \n",
      "4     2023-01-06 15:26:36    2000-04-19 2023-01-06    2022-11-03 18:30:39   \n",
      "\n",
      "  Opportunity End Date  \n",
      "0  2024-06-29 18:52:39  \n",
      "1  2024-06-29 18:52:39  \n",
      "2  2024-06-29 18:52:39  \n",
      "3  2024-06-29 18:52:39  \n",
      "4  2024-06-29 18:52:39  \n"
     ]
    }
   ],
   "source": [
    "date_columns = [\n",
    "    'Learner SignUp DateTime',\n",
    "    'Date of Birth',\n",
    "    'Apply Date',\n",
    "    'Opportunity Start Date',\n",
    "    'Opportunity End Date'\n",
    "]\n",
    "\n",
    "for col in date_columns:\n",
    "    data[col] = pd.to_datetime(data[col], errors='coerce') \n",
    "print(\"Columns converted to datetime:\", date_columns)\n",
    "#also display their values\n",
    "print(\"\\nConverted date columns:\")\n",
    "print(data[date_columns].head())\n"
   ]
  },
  {
   "cell_type": "code",
   "execution_count": 19,
   "id": "5faedd50",
   "metadata": {},
   "outputs": [],
   "source": [
    "data['Apply Date'] = pd.to_datetime(data['Apply Date'].astype(str).str.split().str[0], errors='coerce')"
   ]
  },
  {
   "cell_type": "code",
   "execution_count": 20,
   "id": "66bb27a0",
   "metadata": {},
   "outputs": [],
   "source": [
    "# 9. Remove exact duplicates\n",
    "data = data.drop_duplicates()"
   ]
  },
  {
   "cell_type": "code",
   "execution_count": 21,
   "id": "67aad9da",
   "metadata": {},
   "outputs": [
    {
     "name": "stdout",
     "output_type": "stream",
     "text": [
      "\n",
      "Saved cleaned_data.csv!\n"
     ]
    }
   ],
   "source": [
    "data.to_csv('cleaned_data.csv', index=False)\n",
    "print(\"\\nSaved cleaned_data.csv!\")"
   ]
  }
 ],
 "metadata": {
  "kernelspec": {
   "display_name": "Python 3 (ipykernel)",
   "language": "python",
   "name": "python3"
  },
  "language_info": {
   "codemirror_mode": {
    "name": "ipython",
    "version": 3
   },
   "file_extension": ".py",
   "mimetype": "text/x-python",
   "name": "python",
   "nbconvert_exporter": "python",
   "pygments_lexer": "ipython3",
   "version": "3.13.0"
  }
 },
 "nbformat": 4,
 "nbformat_minor": 5
}
